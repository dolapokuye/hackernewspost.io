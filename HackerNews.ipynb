{
 "cells": [
  {
   "cell_type": "markdown",
   "metadata": {},
   "source": [
    "### Exploring Hacker News Posts"
   ]
  },
  {
   "cell_type": "markdown",
   "metadata": {},
   "source": [
    "In this project, we would explore hacker news posts and analyze 'ask posts' and 'show post' that received comments, to determine which type of post and what time received the most comments on average.\n",
    "Note: Dataset excluded posts with no comment."
   ]
  },
  {
   "cell_type": "code",
   "execution_count": 1,
   "metadata": {},
   "outputs": [
    {
     "name": "stdout",
     "output_type": "stream",
     "text": [
      "[['id', 'title', 'url', 'num_points', 'num_comments', 'author', 'created_at'], ['12578822', 'Amazons Algorithms Dont Find You the Best Deals', 'https://www.technologyreview.com/s/602442/amazons-algorithms-dont-find-you-the-best-deals/', '1', '1', 'yarapavan', '9/26/2016 2:26'], ['12578694', 'Emergency dose of epinephrine that does not cost an arm and a leg', 'http://m.imgur.com/gallery/th6Ua', '2', '1', 'dredmorbius', '9/26/2016 1:54'], ['12578624', 'Phone Makers Could Cut Off Drivers. So Why Dont They?', 'http://www.nytimes.com/2016/09/25/technology/phone-makers-could-cut-off-drivers-so-why-dont-they.html', '4', '1', 'danso', '9/26/2016 1:37'], ['12578311', 'Americas Lost Boys: Men who choose video games over work', 'https://www.firstthings.com/blogs/firstthoughts/2016/08/americas-lost-boys', '5', '1', 'jseliger', '9/26/2016 0:31']]\n"
     ]
    }
   ],
   "source": [
    "from csv import reader\n",
    "opened_file = open('hackernews.csv', encoding='utf8')\n",
    "read_file = reader(opened_file)\n",
    "hn = list(read_file)\n",
    "print(hn[:5])"
   ]
  },
  {
   "cell_type": "code",
   "execution_count": 2,
   "metadata": {},
   "outputs": [
    {
     "name": "stdout",
     "output_type": "stream",
     "text": [
      "['id', 'title', 'url', 'num_points', 'num_comments', 'author', 'created_at']\n",
      "[['12578822', 'Amazons Algorithms Dont Find You the Best Deals', 'https://www.technologyreview.com/s/602442/amazons-algorithms-dont-find-you-the-best-deals/', '1', '1', 'yarapavan', '9/26/2016 2:26'], ['12578694', 'Emergency dose of epinephrine that does not cost an arm and a leg', 'http://m.imgur.com/gallery/th6Ua', '2', '1', 'dredmorbius', '9/26/2016 1:54'], ['12578624', 'Phone Makers Could Cut Off Drivers. So Why Dont They?', 'http://www.nytimes.com/2016/09/25/technology/phone-makers-could-cut-off-drivers-so-why-dont-they.html', '4', '1', 'danso', '9/26/2016 1:37'], ['12578311', 'Americas Lost Boys: Men who choose video games over work', 'https://www.firstthings.com/blogs/firstthoughts/2016/08/americas-lost-boys', '5', '1', 'jseliger', '9/26/2016 0:31'], ['12578212', 'A Walking Tour of New Yorks Massive Surveillance Network', 'https://theintercept.com/2016/09/24/a-walking-tour-of-new-yorks-massive-surveillance-network/', '7', '1', 'bootload', '9/26/2016 0:06']]\n"
     ]
    }
   ],
   "source": [
    "headers = hn[0]\n",
    "hn = hn[1:]\n",
    "print(headers)\n",
    "print(hn[:5])"
   ]
  },
  {
   "cell_type": "markdown",
   "metadata": {},
   "source": [
    "**Filtering The Data For Posts Titles Begining With 'Ask HN' or 'Show HN'**"
   ]
  },
  {
   "cell_type": "code",
   "execution_count": 3,
   "metadata": {},
   "outputs": [
    {
     "name": "stdout",
     "output_type": "stream",
     "text": [
      "6911\n",
      "5059\n",
      "68430\n"
     ]
    }
   ],
   "source": [
    "ask_posts = []\n",
    "show_posts = []\n",
    "other_posts = []\n",
    "for row in hn:\n",
    "    title = row[1]\n",
    "    title = title.lower()\n",
    "    if title.startswith('ask hn'):\n",
    "        ask_posts.append(row)\n",
    "    elif title.startswith('show hn'):      \n",
    "        show_posts.append(row)\n",
    "    else:\n",
    "        other_posts.append(row)\n",
    "print(len(ask_posts))\n",
    "print(len(show_posts))\n",
    "print(len(other_posts))"
   ]
  },
  {
   "cell_type": "markdown",
   "metadata": {},
   "source": [
    "**First Five Rows in ask_posts**"
   ]
  },
  {
   "cell_type": "code",
   "execution_count": 4,
   "metadata": {},
   "outputs": [
    {
     "name": "stdout",
     "output_type": "stream",
     "text": [
      "[['12576946', 'Ask HN: How hard would it be to make a cheap, hackable phone?', '', '2', '1', 'hkt', '9/25/2016 19:30'], ['12573681', 'Ask HN: Where can I learn more about and contribute to the AI singularity?', '', '1', '1', 'DSteinmann', '9/25/2016 3:00'], ['12572353', 'Ask HN: Is Riak a viable alternative to Cassandra?', '', '5', '1', 'nvarsj', '9/24/2016 19:57'], ['12571744', 'Ask HN: What are the best (free if possible) Wordpress themes for coding blogs?', '', '2', '1', 'kexari', '9/24/2016 17:27'], ['12570947', \"Ask HN: If you've successfully outsourced software dev work, how did you do it?\", '', '3', '1', 'Mattasher', '9/24/2016 14:03']]\n"
     ]
    }
   ],
   "source": [
    "print(ask_posts[:5])"
   ]
  },
  {
   "cell_type": "markdown",
   "metadata": {},
   "source": [
    "**First Five Rows in show_posts**"
   ]
  },
  {
   "cell_type": "code",
   "execution_count": 5,
   "metadata": {},
   "outputs": [
    {
     "name": "stdout",
     "output_type": "stream",
     "text": [
      "[['12577142', 'Show HN: Jumble  Essays on the go #PaulInYourPocket', 'https://itunes.apple.com/us/app/jumble-find-startup-essay/id1150939197?ls=1&mt=8', '1', '1', 'ryderj', '9/25/2016 20:06'], ['12576813', 'Show HN: Learn Japanese Vocab via multiple choice questions', 'http://japanese.vul.io/', '1', '1', 'soulchild37', '9/25/2016 19:06'], ['12576090', 'Show HN: Markov chain Twitter bot. Trained on comments left on Pornhub', 'https://twitter.com/botsonasty', '3', '1', 'keepingscore', '9/25/2016 16:50'], ['12575471', 'Show HN: Project-Okot: Novel, CODE-FREE data-apps in mere seconds', 'https://studio.nuchwezi.com/', '3', '1', 'nfixx', '9/25/2016 14:30'], ['12574556', 'Show HN: Geto, a mobile local compass', 'https://andreapaiola.name/geto/', '2', '1', 'andreapaiola', '9/25/2016 9:19']]\n"
     ]
    }
   ],
   "source": [
    "print(show_posts[:5])"
   ]
  },
  {
   "cell_type": "markdown",
   "metadata": {},
   "source": [
    "**Calculating the Average Number of Comments For Ask HN and Show HN Posts**"
   ]
  },
  {
   "cell_type": "code",
   "execution_count": 6,
   "metadata": {},
   "outputs": [
    {
     "name": "stdout",
     "output_type": "stream",
     "text": [
      "13.744175951381855\n"
     ]
    }
   ],
   "source": [
    "total_ask_comments = 0\n",
    "for row in ask_posts:\n",
    "    num_comments = row[4]\n",
    "    num_comments = int(num_comments)\n",
    "    total_ask_comments += num_comments\n",
    "avg_ask_comments = total_ask_comments/len(ask_posts)\n",
    "print(avg_ask_comments)"
   ]
  },
  {
   "cell_type": "code",
   "execution_count": 7,
   "metadata": {},
   "outputs": [
    {
     "name": "stdout",
     "output_type": "stream",
     "text": [
      "9.810832180272781\n"
     ]
    }
   ],
   "source": [
    "total_show_comments = 0\n",
    "for row in show_posts:\n",
    "    num_comments = row[4]\n",
    "    num_comments = int(num_comments)\n",
    "    total_show_comments += num_comments\n",
    "avg_show_comments = total_show_comments/len(show_posts)\n",
    "print(avg_show_comments)"
   ]
  },
  {
   "cell_type": "markdown",
   "metadata": {},
   "source": [
    "On average, ask posts in our sample receive approximately 14 comments, whereas show posts receive approximately 10. Since ask posts are more likely to receive comments, we'll focus our remaining analysis just on these posts."
   ]
  },
  {
   "cell_type": "markdown",
   "metadata": {},
   "source": [
    "#### Finding the Amount of Ask Posts and Comments by Hour Created"
   ]
  },
  {
   "cell_type": "code",
   "execution_count": 8,
   "metadata": {},
   "outputs": [
    {
     "data": {
      "text/plain": [
       "{'19': 3954,\n",
       " '03': 2154,\n",
       " '17': 5547,\n",
       " '14': 4972,\n",
       " '08': 2362,\n",
       " '20': 4462,\n",
       " '09': 1477,\n",
       " '01': 2089,\n",
       " '18': 4877,\n",
       " '15': 18525,\n",
       " '06': 1587,\n",
       " '21': 4500,\n",
       " '12': 4234,\n",
       " '04': 2360,\n",
       " '00': 2277,\n",
       " '16': 4466,\n",
       " '23': 2297,\n",
       " '05': 1838,\n",
       " '10': 3013,\n",
       " '07': 1585,\n",
       " '11': 2797,\n",
       " '22': 3372,\n",
       " '13': 7245,\n",
       " '02': 2996}"
      ]
     },
     "execution_count": 8,
     "metadata": {},
     "output_type": "execute_result"
    }
   ],
   "source": [
    "import datetime as dt\n",
    "\n",
    "result_list = []\n",
    "for row in ask_posts:\n",
    "    created_at = row[6]\n",
    "    num_comments = int(row[4])\n",
    "    result_list.append([created_at, num_comments])\n",
    "    \n",
    "counts_by_hour = {}\n",
    "comments_by_hour = {}\n",
    "date_format = '%m/%d/%Y %H:%M'\n",
    "\n",
    "for c, n in result_list:\n",
    "    time = dt.datetime.strptime(c, date_format).strftime('%H')\n",
    "    if time not in counts_by_hour:\n",
    "        counts_by_hour[time] = 1\n",
    "        comments_by_hour[time] = n\n",
    "    else:\n",
    "        counts_by_hour[time] += 1\n",
    "        comments_by_hour[time] += n\n",
    "comments_by_hour"
   ]
  },
  {
   "cell_type": "markdown",
   "metadata": {},
   "source": [
    "**Calculating the Average Number of Comments For Ask HN Posts by Hour**"
   ]
  },
  {
   "cell_type": "code",
   "execution_count": 9,
   "metadata": {},
   "outputs": [
    {
     "data": {
      "text/plain": [
       "[['19', 9.414285714285715],\n",
       " ['03', 10.160377358490566],\n",
       " ['17', 13.73019801980198],\n",
       " ['14', 13.153439153439153],\n",
       " ['08', 12.43157894736842],\n",
       " ['20', 11.38265306122449],\n",
       " ['09', 8.392045454545455],\n",
       " ['01', 9.367713004484305],\n",
       " ['18', 10.789823008849558],\n",
       " ['15', 39.66809421841542],\n",
       " ['06', 9.017045454545455],\n",
       " ['21', 11.056511056511056],\n",
       " ['12', 15.452554744525548],\n",
       " ['04', 12.688172043010752],\n",
       " ['00', 9.857142857142858],\n",
       " ['16', 10.76144578313253],\n",
       " ['23', 8.322463768115941],\n",
       " ['05', 11.139393939393939],\n",
       " ['10', 13.757990867579908],\n",
       " ['07', 10.095541401273886],\n",
       " ['11', 11.143426294820717],\n",
       " ['22', 11.749128919860627],\n",
       " ['13', 22.2239263803681],\n",
       " ['02', 13.198237885462555]]"
      ]
     },
     "execution_count": 9,
     "metadata": {},
     "output_type": "execute_result"
    }
   ],
   "source": [
    "avg_by_hour = []\n",
    "for hr in comments_by_hour:\n",
    "    avg_by_hour.append([hr, comments_by_hour[hr]/counts_by_hour[hr]])\n",
    "    \n",
    "avg_by_hour"
   ]
  },
  {
   "cell_type": "markdown",
   "metadata": {},
   "source": [
    "**Sorting and Printing Values**"
   ]
  },
  {
   "cell_type": "code",
   "execution_count": 10,
   "metadata": {},
   "outputs": [
    {
     "name": "stdout",
     "output_type": "stream",
     "text": [
      "[[9.414285714285715, '19']]\n",
      "[[9.414285714285715, '19'], [10.160377358490566, '03']]\n",
      "[[9.414285714285715, '19'], [10.160377358490566, '03'], [13.73019801980198, '17']]\n",
      "[[9.414285714285715, '19'], [10.160377358490566, '03'], [13.73019801980198, '17'], [13.153439153439153, '14']]\n",
      "[[9.414285714285715, '19'], [10.160377358490566, '03'], [13.73019801980198, '17'], [13.153439153439153, '14'], [12.43157894736842, '08']]\n",
      "[[9.414285714285715, '19'], [10.160377358490566, '03'], [13.73019801980198, '17'], [13.153439153439153, '14'], [12.43157894736842, '08'], [11.38265306122449, '20']]\n",
      "[[9.414285714285715, '19'], [10.160377358490566, '03'], [13.73019801980198, '17'], [13.153439153439153, '14'], [12.43157894736842, '08'], [11.38265306122449, '20'], [8.392045454545455, '09']]\n",
      "[[9.414285714285715, '19'], [10.160377358490566, '03'], [13.73019801980198, '17'], [13.153439153439153, '14'], [12.43157894736842, '08'], [11.38265306122449, '20'], [8.392045454545455, '09'], [9.367713004484305, '01']]\n",
      "[[9.414285714285715, '19'], [10.160377358490566, '03'], [13.73019801980198, '17'], [13.153439153439153, '14'], [12.43157894736842, '08'], [11.38265306122449, '20'], [8.392045454545455, '09'], [9.367713004484305, '01'], [10.789823008849558, '18']]\n",
      "[[9.414285714285715, '19'], [10.160377358490566, '03'], [13.73019801980198, '17'], [13.153439153439153, '14'], [12.43157894736842, '08'], [11.38265306122449, '20'], [8.392045454545455, '09'], [9.367713004484305, '01'], [10.789823008849558, '18'], [39.66809421841542, '15']]\n",
      "[[9.414285714285715, '19'], [10.160377358490566, '03'], [13.73019801980198, '17'], [13.153439153439153, '14'], [12.43157894736842, '08'], [11.38265306122449, '20'], [8.392045454545455, '09'], [9.367713004484305, '01'], [10.789823008849558, '18'], [39.66809421841542, '15'], [9.017045454545455, '06']]\n",
      "[[9.414285714285715, '19'], [10.160377358490566, '03'], [13.73019801980198, '17'], [13.153439153439153, '14'], [12.43157894736842, '08'], [11.38265306122449, '20'], [8.392045454545455, '09'], [9.367713004484305, '01'], [10.789823008849558, '18'], [39.66809421841542, '15'], [9.017045454545455, '06'], [11.056511056511056, '21']]\n",
      "[[9.414285714285715, '19'], [10.160377358490566, '03'], [13.73019801980198, '17'], [13.153439153439153, '14'], [12.43157894736842, '08'], [11.38265306122449, '20'], [8.392045454545455, '09'], [9.367713004484305, '01'], [10.789823008849558, '18'], [39.66809421841542, '15'], [9.017045454545455, '06'], [11.056511056511056, '21'], [15.452554744525548, '12']]\n",
      "[[9.414285714285715, '19'], [10.160377358490566, '03'], [13.73019801980198, '17'], [13.153439153439153, '14'], [12.43157894736842, '08'], [11.38265306122449, '20'], [8.392045454545455, '09'], [9.367713004484305, '01'], [10.789823008849558, '18'], [39.66809421841542, '15'], [9.017045454545455, '06'], [11.056511056511056, '21'], [15.452554744525548, '12'], [12.688172043010752, '04']]\n",
      "[[9.414285714285715, '19'], [10.160377358490566, '03'], [13.73019801980198, '17'], [13.153439153439153, '14'], [12.43157894736842, '08'], [11.38265306122449, '20'], [8.392045454545455, '09'], [9.367713004484305, '01'], [10.789823008849558, '18'], [39.66809421841542, '15'], [9.017045454545455, '06'], [11.056511056511056, '21'], [15.452554744525548, '12'], [12.688172043010752, '04'], [9.857142857142858, '00']]\n",
      "[[9.414285714285715, '19'], [10.160377358490566, '03'], [13.73019801980198, '17'], [13.153439153439153, '14'], [12.43157894736842, '08'], [11.38265306122449, '20'], [8.392045454545455, '09'], [9.367713004484305, '01'], [10.789823008849558, '18'], [39.66809421841542, '15'], [9.017045454545455, '06'], [11.056511056511056, '21'], [15.452554744525548, '12'], [12.688172043010752, '04'], [9.857142857142858, '00'], [10.76144578313253, '16']]\n",
      "[[9.414285714285715, '19'], [10.160377358490566, '03'], [13.73019801980198, '17'], [13.153439153439153, '14'], [12.43157894736842, '08'], [11.38265306122449, '20'], [8.392045454545455, '09'], [9.367713004484305, '01'], [10.789823008849558, '18'], [39.66809421841542, '15'], [9.017045454545455, '06'], [11.056511056511056, '21'], [15.452554744525548, '12'], [12.688172043010752, '04'], [9.857142857142858, '00'], [10.76144578313253, '16'], [8.322463768115941, '23']]\n",
      "[[9.414285714285715, '19'], [10.160377358490566, '03'], [13.73019801980198, '17'], [13.153439153439153, '14'], [12.43157894736842, '08'], [11.38265306122449, '20'], [8.392045454545455, '09'], [9.367713004484305, '01'], [10.789823008849558, '18'], [39.66809421841542, '15'], [9.017045454545455, '06'], [11.056511056511056, '21'], [15.452554744525548, '12'], [12.688172043010752, '04'], [9.857142857142858, '00'], [10.76144578313253, '16'], [8.322463768115941, '23'], [11.139393939393939, '05']]\n",
      "[[9.414285714285715, '19'], [10.160377358490566, '03'], [13.73019801980198, '17'], [13.153439153439153, '14'], [12.43157894736842, '08'], [11.38265306122449, '20'], [8.392045454545455, '09'], [9.367713004484305, '01'], [10.789823008849558, '18'], [39.66809421841542, '15'], [9.017045454545455, '06'], [11.056511056511056, '21'], [15.452554744525548, '12'], [12.688172043010752, '04'], [9.857142857142858, '00'], [10.76144578313253, '16'], [8.322463768115941, '23'], [11.139393939393939, '05'], [13.757990867579908, '10']]\n",
      "[[9.414285714285715, '19'], [10.160377358490566, '03'], [13.73019801980198, '17'], [13.153439153439153, '14'], [12.43157894736842, '08'], [11.38265306122449, '20'], [8.392045454545455, '09'], [9.367713004484305, '01'], [10.789823008849558, '18'], [39.66809421841542, '15'], [9.017045454545455, '06'], [11.056511056511056, '21'], [15.452554744525548, '12'], [12.688172043010752, '04'], [9.857142857142858, '00'], [10.76144578313253, '16'], [8.322463768115941, '23'], [11.139393939393939, '05'], [13.757990867579908, '10'], [10.095541401273886, '07']]\n",
      "[[9.414285714285715, '19'], [10.160377358490566, '03'], [13.73019801980198, '17'], [13.153439153439153, '14'], [12.43157894736842, '08'], [11.38265306122449, '20'], [8.392045454545455, '09'], [9.367713004484305, '01'], [10.789823008849558, '18'], [39.66809421841542, '15'], [9.017045454545455, '06'], [11.056511056511056, '21'], [15.452554744525548, '12'], [12.688172043010752, '04'], [9.857142857142858, '00'], [10.76144578313253, '16'], [8.322463768115941, '23'], [11.139393939393939, '05'], [13.757990867579908, '10'], [10.095541401273886, '07'], [11.143426294820717, '11']]\n",
      "[[9.414285714285715, '19'], [10.160377358490566, '03'], [13.73019801980198, '17'], [13.153439153439153, '14'], [12.43157894736842, '08'], [11.38265306122449, '20'], [8.392045454545455, '09'], [9.367713004484305, '01'], [10.789823008849558, '18'], [39.66809421841542, '15'], [9.017045454545455, '06'], [11.056511056511056, '21'], [15.452554744525548, '12'], [12.688172043010752, '04'], [9.857142857142858, '00'], [10.76144578313253, '16'], [8.322463768115941, '23'], [11.139393939393939, '05'], [13.757990867579908, '10'], [10.095541401273886, '07'], [11.143426294820717, '11'], [11.749128919860627, '22']]\n",
      "[[9.414285714285715, '19'], [10.160377358490566, '03'], [13.73019801980198, '17'], [13.153439153439153, '14'], [12.43157894736842, '08'], [11.38265306122449, '20'], [8.392045454545455, '09'], [9.367713004484305, '01'], [10.789823008849558, '18'], [39.66809421841542, '15'], [9.017045454545455, '06'], [11.056511056511056, '21'], [15.452554744525548, '12'], [12.688172043010752, '04'], [9.857142857142858, '00'], [10.76144578313253, '16'], [8.322463768115941, '23'], [11.139393939393939, '05'], [13.757990867579908, '10'], [10.095541401273886, '07'], [11.143426294820717, '11'], [11.749128919860627, '22'], [22.2239263803681, '13']]\n",
      "[[9.414285714285715, '19'], [10.160377358490566, '03'], [13.73019801980198, '17'], [13.153439153439153, '14'], [12.43157894736842, '08'], [11.38265306122449, '20'], [8.392045454545455, '09'], [9.367713004484305, '01'], [10.789823008849558, '18'], [39.66809421841542, '15'], [9.017045454545455, '06'], [11.056511056511056, '21'], [15.452554744525548, '12'], [12.688172043010752, '04'], [9.857142857142858, '00'], [10.76144578313253, '16'], [8.322463768115941, '23'], [11.139393939393939, '05'], [13.757990867579908, '10'], [10.095541401273886, '07'], [11.143426294820717, '11'], [11.749128919860627, '22'], [22.2239263803681, '13'], [13.198237885462555, '02']]\n"
     ]
    }
   ],
   "source": [
    "swap_avg_by_hour = []\n",
    "for row in avg_by_hour:\n",
    "    a = row[1]\n",
    "    b = row[0]\n",
    "    swap_avg_by_hour.append([a,b])\n",
    "    print(swap_avg_by_hour)"
   ]
  },
  {
   "cell_type": "code",
   "execution_count": 11,
   "metadata": {},
   "outputs": [
    {
     "name": "stdout",
     "output_type": "stream",
     "text": [
      "[[39.66809421841542, '15'], [22.2239263803681, '13'], [15.452554744525548, '12'], [13.757990867579908, '10'], [13.73019801980198, '17'], [13.198237885462555, '02'], [13.153439153439153, '14'], [12.688172043010752, '04'], [12.43157894736842, '08'], [11.749128919860627, '22'], [11.38265306122449, '20'], [11.143426294820717, '11'], [11.139393939393939, '05'], [11.056511056511056, '21'], [10.789823008849558, '18'], [10.76144578313253, '16'], [10.160377358490566, '03'], [10.095541401273886, '07'], [9.857142857142858, '00'], [9.414285714285715, '19'], [9.367713004484305, '01'], [9.017045454545455, '06'], [8.392045454545455, '09'], [8.322463768115941, '23']]\n"
     ]
    }
   ],
   "source": [
    "sorted_swap = sorted(swap_avg_by_hour, reverse = True)\n",
    "print(sorted_swap)"
   ]
  },
  {
   "cell_type": "code",
   "execution_count": 12,
   "metadata": {},
   "outputs": [
    {
     "name": "stdout",
     "output_type": "stream",
     "text": [
      "Top 5 hours for ASK HN Comments\n",
      "15:00: 39.67 average comments per post\n",
      "13:00: 22.22 average comments per post\n",
      "12:00: 15.45 average comments per post\n",
      "10:00: 13.76 average comments per post\n",
      "17:00: 13.73 average comments per post\n"
     ]
    }
   ],
   "source": [
    "print('Top 5 hours for ASK HN Comments')\n",
    "\n",
    "for avg, hr in sorted_swap[:5]:\n",
    "      print('{}: {:.2f} average comments per post'.format(dt.datetime.strptime(hr, '%H').strftime('%H:%M'), avg))\n",
    "      "
   ]
  },
  {
   "cell_type": "markdown",
   "metadata": {},
   "source": [
    "**The hour that receives the most comments per post on average is 15:00 (3pm est) with average of 39.67 comments per post**"
   ]
  },
  {
   "cell_type": "markdown",
   "metadata": {},
   "source": [
    "### Conclusion"
   ]
  },
  {
   "cell_type": "markdown",
   "metadata": {},
   "source": [
    "Based on our analysis on post that receive comments, 'ask posts' received more comments on average, and 'ask posts' created between 15:00 and 16:00 (3pm and 4pm est) received the most comments on average. Therefore to maximize the amount of comments a post receives, we would recommend the post be categorized as ask post and created between 15:00 and 16:00 (3pm and 4pm)"
   ]
  }
 ],
 "metadata": {
  "kernelspec": {
   "display_name": "Python 3",
   "language": "python",
   "name": "python3"
  },
  "language_info": {
   "codemirror_mode": {
    "name": "ipython",
    "version": 3
   },
   "file_extension": ".py",
   "mimetype": "text/x-python",
   "name": "python",
   "nbconvert_exporter": "python",
   "pygments_lexer": "ipython3",
   "version": "3.7.6"
  }
 },
 "nbformat": 4,
 "nbformat_minor": 4
}
